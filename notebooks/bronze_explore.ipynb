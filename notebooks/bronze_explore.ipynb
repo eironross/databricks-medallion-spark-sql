{
 "cells": [
  {
   "cell_type": "markdown",
   "metadata": {
    "application/vnd.databricks.v1+cell": {
     "cellMetadata": {},
     "inputWidgets": {},
     "nuid": "5512e7f3-247b-4cf4-880d-6362e406258d",
     "showTitle": false,
     "tableResultSettingsMap": {},
     "title": ""
    }
   },
   "source": [
    "# Bronze Data Exploration"
   ]
  },
  {
   "cell_type": "markdown",
   "metadata": {
    "application/vnd.databricks.v1+cell": {
     "cellMetadata": {},
     "inputWidgets": {},
     "nuid": "95c52be1-8823-45d7-9905-3abe41082a79",
     "showTitle": false,
     "tableResultSettingsMap": {},
     "title": ""
    }
   },
   "source": [
    "# Dimension \n",
    "- Business Partners - keys, partner_id\n",
    "- Employees - keys, employee_id\n",
    "- Dates - keys, datekey \n",
    "- Products -keys, product_id\n",
    "\n",
    "\n",
    "# Fact\n",
    "- Sales Order Iems - Detail, sale_order_items, sale_order_id\n",
    "- Sales Order - Header - sale_order_id"
   ]
  },
  {
   "cell_type": "code",
   "execution_count": 0,
   "metadata": {
    "application/vnd.databricks.v1+cell": {
     "cellMetadata": {
      "byteLimit": 2048000,
      "implicitDf": true,
      "rowLimit": 10000
     },
     "inputWidgets": {},
     "nuid": "d8f2827d-8b43-4c1e-80c7-c5ce35862330",
     "showTitle": false,
     "tableResultSettingsMap": {
      "0": {
       "dataGridStateBlob": "{\"version\":1,\"tableState\":{\"columnPinning\":{\"left\":[\"#row_number#\"],\"right\":[]},\"columnSizing\":{},\"columnVisibility\":{}},\"settings\":{\"columns\":{}},\"syncTimestamp\":1760528323429}",
       "filterBlob": null,
       "queryPlanFiltersBlob": null,
       "tableResultIndex": 0
      }
     },
     "title": ""
    }
   },
   "outputs": [],
   "source": [
    "%sql\n",
    "SELECT * FROM db_bike.01_bronze.bronze_employees"
   ]
  },
  {
   "cell_type": "code",
   "execution_count": 0,
   "metadata": {
    "application/vnd.databricks.v1+cell": {
     "cellMetadata": {
      "byteLimit": 2048000,
      "implicitDf": true,
      "rowLimit": 10000
     },
     "inputWidgets": {},
     "nuid": "fc5d1272-7e0e-4dd2-9bff-a2b0786ac0fb",
     "showTitle": false,
     "tableResultSettingsMap": {},
     "title": ""
    }
   },
   "outputs": [],
   "source": [
    "%sql\n",
    "SELECT * FROM db_bike.`01_bronze`.bronze_addresses"
   ]
  },
  {
   "cell_type": "markdown",
   "metadata": {
    "application/vnd.databricks.v1+cell": {
     "cellMetadata": {},
     "inputWidgets": {},
     "nuid": "e542e737-e506-4166-94f5-72cd2f2d131b",
     "showTitle": false,
     "tableResultSettingsMap": {},
     "title": ""
    }
   },
   "source": [
    "# Transformation: Employees & Business Partners"
   ]
  },
  {
   "cell_type": "code",
   "execution_count": 0,
   "metadata": {
    "application/vnd.databricks.v1+cell": {
     "cellMetadata": {
      "byteLimit": 2048000,
      "implicitDf": true,
      "rowLimit": 10000
     },
     "inputWidgets": {},
     "nuid": "70c1ed54-5a1d-470a-b05f-9fbc4b8d73ca",
     "showTitle": false,
     "tableResultSettingsMap": {},
     "title": ""
    }
   },
   "outputs": [],
   "source": [
    "%sql\n",
    "SELECT DISTINCT region FROM db_bike.`01_bronze`.bronze_addresses"
   ]
  },
  {
   "cell_type": "code",
   "execution_count": 0,
   "metadata": {
    "application/vnd.databricks.v1+cell": {
     "cellMetadata": {
      "byteLimit": 2048000,
      "implicitDf": true,
      "rowLimit": 10000
     },
     "inputWidgets": {},
     "nuid": "5a69d130-2566-416a-814a-38df72982e70",
     "showTitle": true,
     "tableResultSettingsMap": {},
     "title": "Transformation in Employees"
    }
   },
   "outputs": [],
   "source": [
    "%sql\n",
    "SELECT \n",
    "  TRIM(b.EMPLOYEEID) AS employee_id\n",
    "  ,TRIM(b.NAME_FIRST) AS first_name\n",
    "  ,TRIM(b.NAME_MIDDLE) AS middle_name\n",
    "  ,TRIM(b.NAME_LAST) AS last_name\n",
    "  ,CASE\n",
    "      TRIM(b.SEX)\n",
    "      WHEN 'M' THEN 'Male'\n",
    "      WHEN 'F' THEN 'Female'\n",
    "      ELSE 'Unknown'\n",
    "    END AS gender\n",
    "  ,CONCAT(SUBSTRING(TRIM(b.NAME_FIRST), 1, 3),\".\",TRIM(b.NAME_LAST)) AS login_name\n",
    "  ,CONCAT(SUBSTRING(TRIM(b.NAME_FIRST), 1, 3),\".\",TRIM(b.NAME_LAST),\"@fontaine.com.ph\") AS email_address\n",
    "  ,TRIM(a.COUNTRY) AS country_name\n",
    "  ,TRIM(a.REGION) AS region_name\n",
    "  ,CASE \n",
    "      WHEN CAST(SUBSTRING(TRIM(b.VALIDITY_ENDDATE), 1, 4) AS INT) > YEAR(CURRENT_DATE()) THEN 1\n",
    "      ELSE 0\n",
    "  END AS is_active\n",
    "FROM db_bike.01_bronze.bronze_employees b\n",
    "INNER JOIN db_bike.01_bronze.bronze_addresses a ON b.ADDRESSID = a.ADDRESSID\n",
    "WHERE\n",
    "    CAST(SUBSTRING(TRIM(b.VALIDITY_ENDDATE), 1, 4) AS INT) > YEAR(CURRENT_DATE()); "
   ]
  },
  {
   "cell_type": "code",
   "execution_count": 0,
   "metadata": {
    "application/vnd.databricks.v1+cell": {
     "cellMetadata": {
      "byteLimit": 2048000,
      "implicitDf": true,
      "rowLimit": 10000
     },
     "inputWidgets": {},
     "nuid": "a9531e99-b902-429e-8ed2-2125c6a6cc2d",
     "showTitle": false,
     "tableResultSettingsMap": {},
     "title": ""
    }
   },
   "outputs": [],
   "source": [
    "%sql\n",
    "SELECT * FROM db_bike.01_bronze.bronze_business_partner"
   ]
  },
  {
   "cell_type": "code",
   "execution_count": 0,
   "metadata": {
    "application/vnd.databricks.v1+cell": {
     "cellMetadata": {
      "byteLimit": 2048000,
      "implicitDf": true,
      "rowLimit": 10000
     },
     "inputWidgets": {},
     "nuid": "b1096bdd-12f4-47b2-b3c8-1000d9c6ba65",
     "showTitle": true,
     "tableResultSettingsMap": {},
     "title": "Business Partners"
    }
   },
   "outputs": [],
   "source": [
    "%sql\n",
    "SELECT\n",
    "  TRIM(b.PARTNERID) AS partner_id\n",
    "  ,TRIM(b.COMPANYNAME) AS company_name\n",
    "  ,TRIM(b.LEGALFORM) AS legal_form\n",
    "  ,TRIM(a.COUNTRY) AS country_name\n",
    "  ,TRIM(a.REGION) AS region_name\n",
    "  ,CAST(b.PARTNERROLE AS INT) AS partner_role\n",
    "  ,TRIM(b.EMAILADDRESS) AS email_address\n",
    "  ,TRIM(b.PHONENUMBER) AS phone_number\n",
    "  ,TRIM(b.FAXNUMBER) AS fax_number\n",
    "  ,TRIM(b.WEBADDRESS) AS web_address\n",
    "FROM db_bike.01_bronze.bronze_business_partner b\n",
    "INNER JOIN db_bike.01_bronze.bronze_addresses a ON b.ADDRESSID = a.ADDRESSID"
   ]
  },
  {
   "cell_type": "markdown",
   "metadata": {
    "application/vnd.databricks.v1+cell": {
     "cellMetadata": {},
     "inputWidgets": {},
     "nuid": "f73c96c2-205a-429a-b4f9-289994adbdda",
     "showTitle": false,
     "tableResultSettingsMap": {},
     "title": ""
    }
   },
   "source": [
    "# Transformations for Products"
   ]
  },
  {
   "cell_type": "code",
   "execution_count": 0,
   "metadata": {
    "application/vnd.databricks.v1+cell": {
     "cellMetadata": {
      "byteLimit": 2048000,
      "implicitDf": true,
      "rowLimit": 10000
     },
     "inputWidgets": {},
     "nuid": "618aa4e5-ed5e-4afa-bff4-b9899847f994",
     "showTitle": false,
     "tableResultSettingsMap": {},
     "title": ""
    }
   },
   "outputs": [],
   "source": [
    "%sql\n",
    "SELECT * FROM db_bike.01_bronze.bronze_prod_cat_text"
   ]
  },
  {
   "cell_type": "code",
   "execution_count": 0,
   "metadata": {
    "application/vnd.databricks.v1+cell": {
     "cellMetadata": {
      "byteLimit": 2048000,
      "implicitDf": true,
      "rowLimit": 10000
     },
     "inputWidgets": {},
     "nuid": "4303a318-ec30-4005-84f3-757e0df8f64b",
     "showTitle": false,
     "tableResultSettingsMap": {},
     "title": ""
    }
   },
   "outputs": [],
   "source": [
    "%sql\n",
    "SELECT * FROM db_bike.`01_bronze`.bronze_prod_text"
   ]
  },
  {
   "cell_type": "code",
   "execution_count": 0,
   "metadata": {
    "application/vnd.databricks.v1+cell": {
     "cellMetadata": {
      "byteLimit": 2048000,
      "implicitDf": true,
      "rowLimit": 10000
     },
     "collapsed": true,
     "inputWidgets": {},
     "nuid": "5e1d529d-26f9-407e-a6ec-f92fd021f0c9",
     "showTitle": true,
     "tableResultSettingsMap": {},
     "title": "Exclude bronze_prod_cat"
    }
   },
   "outputs": [],
   "source": [
    "%sql\n",
    "SELECT * FROM db_bike.01_bronze.bronze_prod_cat -- exclude"
   ]
  },
  {
   "cell_type": "code",
   "execution_count": 0,
   "metadata": {
    "application/vnd.databricks.v1+cell": {
     "cellMetadata": {
      "byteLimit": 2048000,
      "implicitDf": true,
      "rowLimit": 10000
     },
     "inputWidgets": {},
     "nuid": "d093da16-c894-4000-86c7-7bb84fd809e5",
     "showTitle": false,
     "tableResultSettingsMap": {},
     "title": ""
    }
   },
   "outputs": [],
   "source": [
    "%sql\n",
    "SELECT * FROM db_bike.`01_bronze`.bronze_prod"
   ]
  },
  {
   "cell_type": "code",
   "execution_count": 0,
   "metadata": {
    "application/vnd.databricks.v1+cell": {
     "cellMetadata": {
      "byteLimit": 2048000,
      "implicitDf": true,
      "rowLimit": 10000
     },
     "collapsed": true,
     "inputWidgets": {},
     "nuid": "6fe1286d-6606-40f8-9485-7b7776930d8d",
     "showTitle": true,
     "tableResultSettingsMap": {},
     "title": "Check for Dup - bronze_prod"
    }
   },
   "outputs": [],
   "source": [
    "%sql\n",
    "SELECT COUNT(*), PRODUCTID FROM db_bike.`01_bronze`.bronze_prod GROUP BY PRODUCTID\n",
    "HAVING COUNT(*) > 1"
   ]
  },
  {
   "cell_type": "code",
   "execution_count": 0,
   "metadata": {
    "application/vnd.databricks.v1+cell": {
     "cellMetadata": {
      "byteLimit": 2048000,
      "implicitDf": true,
      "rowLimit": 10000
     },
     "inputWidgets": {},
     "nuid": "3befddb2-279b-4c21-8ef3-17bc32cf30d4",
     "showTitle": true,
     "tableResultSettingsMap": {
      "0": {
       "dataGridStateBlob": "{\"version\":1,\"tableState\":{\"columnPinning\":{\"left\":[\"#row_number#\"],\"right\":[]},\"columnSizing\":{},\"columnVisibility\":{}},\"settings\":{\"columns\":{}},\"syncTimestamp\":1760536394961}",
       "filterBlob": null,
       "queryPlanFiltersBlob": null,
       "tableResultIndex": 0
      }
     },
     "title": "Transformation: Products"
    }
   },
   "outputs": [],
   "source": [
    "%sql\n",
    "SELECT \n",
    "  TRIM(a.PRODUCTID) AS product_id\n",
    "  ,TRIM(a.TYPECODE) AS type_code\n",
    "  ,TRIM(a.SUPPLIER_PARTNERID) AS partner_id\n",
    "  ,CAST(TRIM(a.PRICE) AS DECIMAL(10,2)) AS list_price\n",
    "  ,TRIM(a.CURRENCY) AS currency\n",
    "  ,TRIM(a.PRODCATEGORYID) AS product_category_id\n",
    "  ,TRIM(c.SHORT_DESCR) AS product_category\n",
    "  ,CASE\n",
    "     WHEN TRIM(b.MEDIUM_DESCR) IS NULL THEN TRIM(b.SHORT_DESCR)\n",
    "     ELSE TRIM(b.MEDIUM_DESCR)\n",
    "  END AS product_description\n",
    "  ,CAST(TRIM(a.WEIGHTMEASURE) AS DECIMAL(10,2)) AS weight_measure\n",
    "  ,TRIM(a.WEIGHTUNIT) AS weight_unit\n",
    "FROM db_bike.01_bronze.bronze_prod a\n",
    "INNER JOIN db_bike.01_bronze.bronze_prod_text b ON a.PRODUCTID = b.PRODUCTID AND b.LANGUAGE = 'EN'\n",
    "INNER JOIN db_bike.01_bronze.bronze_prod_cat_text c ON c.PRODCATEGORYID = a.PRODCATEGORYID\n",
    "WHERE TRIM(a.PRODUCTID) IS NOT NULL OR \n",
    "    CAST(TRIM(a.PRICE) AS DECIMAL(10,2)) IS NOT NULL\n",
    "    OR CAST(TRIM(a.PRICE) AS DECIMAL(10,2)) <> 0\n"
   ]
  },
  {
   "cell_type": "markdown",
   "metadata": {
    "application/vnd.databricks.v1+cell": {
     "cellMetadata": {},
     "inputWidgets": {},
     "nuid": "d614815c-c922-4bd4-a5f1-ef542330f5fa",
     "showTitle": false,
     "tableResultSettingsMap": {},
     "title": ""
    }
   },
   "source": [
    "# Transformation Sales Tables"
   ]
  },
  {
   "cell_type": "code",
   "execution_count": 0,
   "metadata": {
    "application/vnd.databricks.v1+cell": {
     "cellMetadata": {
      "byteLimit": 2048000,
      "implicitDf": true,
      "rowLimit": 10000
     },
     "inputWidgets": {},
     "nuid": "c8d6c77c-7f19-4fc7-b9e5-1865168b590e",
     "showTitle": false,
     "tableResultSettingsMap": {
      "0": {
       "dataGridStateBlob": "{\"version\":1,\"tableState\":{\"columnPinning\":{\"left\":[\"#row_number#\"],\"right\":[]},\"columnSizing\":{},\"columnVisibility\":{}},\"settings\":{\"columns\":{}},\"syncTimestamp\":1760537067994}",
       "filterBlob": null,
       "queryPlanFiltersBlob": null,
       "tableResultIndex": 0
      }
     },
     "title": ""
    }
   },
   "outputs": [],
   "source": [
    "%sql\n",
    "SELECT * FROM db_bike.01_bronze.bronze_sales_items"
   ]
  },
  {
   "cell_type": "code",
   "execution_count": 0,
   "metadata": {
    "application/vnd.databricks.v1+cell": {
     "cellMetadata": {
      "byteLimit": 2048000,
      "implicitDf": true,
      "rowLimit": 10000
     },
     "inputWidgets": {},
     "nuid": "95510f04-335b-42f3-be1f-fcd840e53067",
     "showTitle": false,
     "tableResultSettingsMap": {},
     "title": ""
    }
   },
   "outputs": [],
   "source": [
    "%sql\n",
    "SELECT DISTINCT CURRENCY FROM db_bike.01_bronze.bronze_sales_items"
   ]
  },
  {
   "cell_type": "code",
   "execution_count": 0,
   "metadata": {
    "application/vnd.databricks.v1+cell": {
     "cellMetadata": {
      "byteLimit": 2048000,
      "implicitDf": true,
      "rowLimit": 10000
     },
     "inputWidgets": {},
     "nuid": "8604ffed-265a-4091-ae13-5ea4f8a91c56",
     "showTitle": true,
     "tableResultSettingsMap": {
      "0": {
       "dataGridStateBlob": "{\"version\":1,\"tableState\":{\"columnPinning\":{\"left\":[\"#row_number#\"],\"right\":[]},\"columnSizing\":{},\"columnVisibility\":{}},\"settings\":{\"columns\":{}},\"syncTimestamp\":1760537435307}",
       "filterBlob": null,
       "queryPlanFiltersBlob": null,
       "tableResultIndex": 0
      }
     },
     "title": "Transformation: Order Details"
    }
   },
   "outputs": [],
   "source": [
    "%sql\n",
    "SELECT \n",
    "  TRIM(SALESORDERID) AS sales_order_id\n",
    "  ,TRIM(SALESORDERITEM) AS sales_order_item\n",
    "  ,CAST(TRIM(DELIVERYDATE) AS INT) AS delivery_date\n",
    "  ,TRIM(PRODUCTID) AS product_id\n",
    "  ,CAST(TRIM(GROSSAMOUNT) AS DECIMAL(10,2)) AS gross_amount\n",
    "  ,CAST(TRIM(NETAMOUNT) AS DECIMAL(10,2)) AS net_amount\n",
    "  ,CAST(TRIM(TAXAMOUNT) AS DECIMAL(10,2)) AS tax_amount\n",
    "  ,CAST(TRIM(QUANTITY) AS INT) AS quantity\n",
    "FROM db_bike.01_bronze.bronze_sales_items"
   ]
  },
  {
   "cell_type": "code",
   "execution_count": 0,
   "metadata": {
    "application/vnd.databricks.v1+cell": {
     "cellMetadata": {
      "byteLimit": 2048000,
      "implicitDf": true,
      "rowLimit": 10000
     },
     "inputWidgets": {},
     "nuid": "2b83f2c1-e777-4947-831b-c8a6b7c565d8",
     "showTitle": false,
     "tableResultSettingsMap": {
      "0": {
       "dataGridStateBlob": "{\"version\":1,\"tableState\":{\"columnPinning\":{\"left\":[\"#row_number#\"],\"right\":[]},\"columnSizing\":{},\"columnVisibility\":{}},\"settings\":{\"columns\":{}},\"syncTimestamp\":1760534522557}",
       "filterBlob": null,
       "queryPlanFiltersBlob": null,
       "tableResultIndex": 0
      }
     },
     "title": ""
    }
   },
   "outputs": [],
   "source": [
    "%sql\n",
    "SELECT DISTINCT PARTNERID FROM db_bike.01_bronze.bronze_sales_order"
   ]
  },
  {
   "cell_type": "code",
   "execution_count": 0,
   "metadata": {
    "application/vnd.databricks.v1+cell": {
     "cellMetadata": {
      "byteLimit": 2048000,
      "implicitDf": true,
      "rowLimit": 10000
     },
     "inputWidgets": {},
     "nuid": "fbb18860-00e1-42d1-9039-a661a1341c1a",
     "showTitle": false,
     "tableResultSettingsMap": {},
     "title": ""
    }
   },
   "outputs": [],
   "source": [
    "%sql\n",
    "SELECT * FROM db_bike.01_bronze.bronze_sales_order"
   ]
  },
  {
   "cell_type": "code",
   "execution_count": 0,
   "metadata": {
    "application/vnd.databricks.v1+cell": {
     "cellMetadata": {
      "byteLimit": 2048000,
      "implicitDf": true,
      "rowLimit": 10000
     },
     "inputWidgets": {},
     "nuid": "6230fd37-89e0-480f-bc63-9781f968b466",
     "showTitle": false,
     "tableResultSettingsMap": {},
     "title": ""
    }
   },
   "outputs": [],
   "source": [
    "%sql\n",
    "SELECT DISTINCT BILLINGSTATUS FROM db_bike.01_bronze.bronze_sales_order"
   ]
  },
  {
   "cell_type": "code",
   "execution_count": 0,
   "metadata": {
    "application/vnd.databricks.v1+cell": {
     "cellMetadata": {
      "byteLimit": 2048000,
      "implicitDf": true,
      "rowLimit": 10000
     },
     "inputWidgets": {},
     "nuid": "353be8cb-8f5c-4740-a234-262531375ea2",
     "showTitle": true,
     "tableResultSettingsMap": {
      "0": {
       "dataGridStateBlob": "{\"version\":1,\"tableState\":{\"columnPinning\":{\"left\":[\"#row_number#\"],\"right\":[]},\"columnSizing\":{},\"columnVisibility\":{}},\"settings\":{\"columns\":{}},\"syncTimestamp\":1760534213625}",
       "filterBlob": null,
       "queryPlanFiltersBlob": null,
       "tableResultIndex": 0
      }
     },
     "title": "Transformation: Order Header"
    }
   },
   "outputs": [],
   "source": [
    "%sql\n",
    "SELECT \n",
    "    TRIM(SALESORDERID) AS sales_order_id\n",
    "    ,CAST(TRIM(CREATEDAT) AS INT) AS transaction_date\n",
    "    ,TRIM(PARTNERID) AS partner_id\n",
    "    ,CAST(TRIM(GROSSAMOUNT) AS DECIMAL(10, 2)) AS total_gross_amount\n",
    "    ,CAST(TRIM(NETAMOUNT) AS DECIMAL(10, 2)) AS total_net_amount\n",
    "    ,CAST(TRIM(TAXAMOUNT) AS DECIMAL(10, 2)) AS total_tax_amount\n",
    "    ,CASE \n",
    "        TRIM(LIFECYCLESTATUS)\n",
    "        WHEN 'C' THEN 'Completed Order'\n",
    "        WHEN 'X' THEN 'Cancelled Order'\n",
    "        WHEN 'I' THEN 'Incomplete Order'\n",
    "        ELSE NULL\n",
    "    END AS lifecycle_status\n",
    "    ,CASE \n",
    "        TRIM(BILLINGSTATUS)\n",
    "        WHEN 'C' THEN 'Billed'\n",
    "        WHEN 'X' THEN 'Cancelled Bill'\n",
    "        WHEN 'I' THEN 'Unbilled'\n",
    "        ELSE NULL\n",
    "    END AS billing_status\n",
    "    ,CASE\n",
    "        TRIM(DELIVERYSTATUS)\n",
    "        WHEN 'C' THEN 'Order Delivered'\n",
    "        WHEN 'X' THEN 'Cancelled Develvery'\n",
    "        WHEN 'I' THEN 'Incomplete Delivery'\n",
    "        ELSE NULL\n",
    "    END AS delivery_status\n",
    "    ,TRIM(CREATEDBY) AS created_by\n",
    "    ,TRIM(BILLINGSTATUS)\n",
    "    ,CASE \n",
    "        WHEN TRIM(BILLINGSTATUS) <> 'X' THEN 1\n",
    "        ELSE 0\n",
    "    END AS is_cancelled\n",
    "FROM db_bike.01_bronze.bronze_sales_order"
   ]
  }
 ],
 "metadata": {
  "application/vnd.databricks.v1+notebook": {
   "computePreferences": null,
   "dashboards": [],
   "environmentMetadata": {
    "base_environment": "",
    "environment_version": "4"
   },
   "inputWidgetPreferences": null,
   "language": "python",
   "notebookMetadata": {
    "mostRecentlyExecutedCommandWithImplicitDF": {
     "commandId": 6487320025384589,
     "dataframes": [
      "_sqldf"
     ]
    },
    "pythonIndentUnit": 4
   },
   "notebookName": "bronze_explore",
   "widgets": {}
  },
  "language_info": {
   "name": "python"
  }
 },
 "nbformat": 4,
 "nbformat_minor": 0
}
